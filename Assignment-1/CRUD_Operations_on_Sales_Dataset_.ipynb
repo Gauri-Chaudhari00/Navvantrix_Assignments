{
  "nbformat": 4,
  "nbformat_minor": 0,
  "metadata": {
    "colab": {
      "provenance": []
    },
    "kernelspec": {
      "name": "python3",
      "display_name": "Python 3"
    },
    "language_info": {
      "name": "python"
    }
  },
  "cells": [
    {
      "cell_type": "code",
      "execution_count": 2,
      "metadata": {
        "id": "dyi0ppHqRcsH",
        "colab": {
          "base_uri": "https://localhost:8080/"
        },
        "outputId": "b78c1aeb-b144-488c-8017-e082f6c0d50f"
      },
      "outputs": [
        {
          "output_type": "stream",
          "name": "stdout",
          "text": [
            "Records have been created in 'sales.csv'.\n",
            "\n",
            "\n",
            "Reading data from 'sales.csv':\n",
            "\n",
            "['Transaction ID', 'Product Name', 'Quantity', 'Price']\n",
            "['1', 'Laptop', '2', '1500']\n",
            "['2', 'Headphones', '5', '300']\n",
            "['3', 'Phone', '1', '800']\n",
            "Record with Transaction ID 2 has been updated.\n",
            "\n",
            "\n",
            "Reading data from 'sales.csv':\n",
            "\n",
            "['Transaction ID', 'Product Name', 'Quantity', 'Price']\n",
            "['1', 'Laptop', '2', '1500']\n",
            "['2', 'Headset', '6', '350']\n",
            "['3', 'Phone', '1', '800']\n",
            "Record with Transaction ID 3 has been deleted.\n",
            "\n",
            "\n",
            "Reading data from 'sales.csv':\n",
            "\n",
            "['Transaction ID', 'Product Name', 'Quantity', 'Price']\n",
            "['1', 'Laptop', '2', '1500']\n",
            "['2', 'Headset', '6', '350']\n"
          ]
        }
      ],
      "source": [
        "from csv import writer, reader\n",
        "import pandas as pd\n",
        "import os\n",
        "\n",
        "# CREATE: Insert new records into the CSV file\n",
        "def create_csv():\n",
        "    with open('sales.csv', 'w', newline='') as file:\n",
        "        csv_writer = writer(file, lineterminator='\\n')\n",
        "        header = ['Transaction ID', 'Product Name', 'Quantity', 'Price']\n",
        "        data = [\n",
        "            (1, 'Laptop', 2, 1500),\n",
        "            (2, 'Headphones', 5, 300),\n",
        "            (3, 'Phone', 1, 800)\n",
        "        ]\n",
        "        # Writing header and data\n",
        "        csv_writer.writerow(header)\n",
        "        csv_writer.writerows(data)\n",
        "    print(\"Records have been created in 'sales.csv'.\\n\")\n",
        "\n",
        "\n",
        "# READ: Retrieve and display records from the CSV file\n",
        "def read_csv():\n",
        "    if os.path.exists('sales.csv'):\n",
        "        print(\"\\nReading data from 'sales.csv':\\n\")\n",
        "        with open('sales.csv', 'r') as file:\n",
        "            csv_reader = reader(file)\n",
        "            header = next(csv_reader)  # Skip header\n",
        "            print(f\"{header}\")\n",
        "            for row in csv_reader:\n",
        "                print(row)\n",
        "    else:\n",
        "        print(\"The file 'sales.csv' does not exist. Please create it first using the CREATE operation.\\n\")\n",
        "\n",
        "\n",
        "# UPDATE: Modify existing records in the CSV file\n",
        "def update_csv(transaction_id, updated_data):\n",
        "    if os.path.exists('sales.csv'):\n",
        "        data = pd.read_csv('sales.csv')\n",
        "        # Update the row where the Transaction ID matches\n",
        "        data.loc[data['Transaction ID'] == transaction_id, ['Product Name', 'Quantity', 'Price']] = updated_data\n",
        "        data.to_csv('sales.csv', index=False)\n",
        "        print(f\"Record with Transaction ID {transaction_id} has been updated.\\n\")\n",
        "    else:\n",
        "        print(\"The file 'sales.csv' does not exist. Please create it first using the CREATE operation.\\n\")\n",
        "\n",
        "\n",
        "# DELETE: Remove specific records from the CSV file\n",
        "def delete_csv(transaction_id):\n",
        "    if os.path.exists('sales.csv'):\n",
        "        data = pd.read_csv('sales.csv')\n",
        "        # Delete the row where the Transaction ID matches\n",
        "        data = data[data['Transaction ID'] != transaction_id]\n",
        "        data.to_csv('sales.csv', index=False)\n",
        "        print(f\"Record with Transaction ID {transaction_id} has been deleted.\\n\")\n",
        "    else:\n",
        "        print(\"The file 'sales.csv' does not exist. Please create it first using the CREATE operation.\\n\")\n",
        "\n",
        "\n",
        "# Run all operations\n",
        "def run_crud_operations():\n",
        "    # CREATE: Insert records\n",
        "    create_csv()\n",
        "\n",
        "    # READ: Display records\n",
        "    read_csv()\n",
        "\n",
        "    # UPDATE: Update a record (Example: Updating transaction ID 2)\n",
        "    update_csv(2, ['Headset', 6, 350])\n",
        "\n",
        "    # READ again to see the updates\n",
        "    read_csv()\n",
        "\n",
        "    # DELETE: Delete a record (Example: Deleting transaction ID 3)\n",
        "    delete_csv(3)\n",
        "\n",
        "    # READ again to see the changes after deletion\n",
        "    read_csv()\n",
        "\n",
        "\n",
        "# Running the CRUD operations\n",
        "run_crud_operations()\n"
      ]
    },
    {
      "cell_type": "code",
      "source": [],
      "metadata": {
        "id": "iK78ibBbAbdx"
      },
      "execution_count": null,
      "outputs": []
    },
    {
      "cell_type": "code",
      "source": [],
      "metadata": {
        "id": "o-0vWOEFAmeK"
      },
      "execution_count": null,
      "outputs": []
    }
  ]
}